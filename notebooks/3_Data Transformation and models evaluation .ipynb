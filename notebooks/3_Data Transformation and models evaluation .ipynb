{
 "cells": [
  {
   "cell_type": "markdown",
   "id": "e70f77a9",
   "metadata": {
    "toc": true
   },
   "source": [
    "<h1>Table of Contents<span class=\"tocSkip\"></span></h1>\n",
    "<div class=\"toc\"><ul class=\"toc-item\"><li><span><a href=\"#Selection-of-variables-that-truly-contribute-to-the-model:\" data-toc-modified-id=\"Selection-of-variables-that-truly-contribute-to-the-model:-1\"><span class=\"toc-item-num\">1&nbsp;&nbsp;</span>Selection of variables that truly contribute to the model:</a></span></li><li><span><a href=\"#Transformations\" data-toc-modified-id=\"Transformations-2\"><span class=\"toc-item-num\">2&nbsp;&nbsp;</span>Transformations</a></span><ul class=\"toc-item\"><li><span><a href=\"#Evaluación-de-distribuciones-y-aplicación-de-transformaciones-pertinentes:\" data-toc-modified-id=\"Evaluación-de-distribuciones-y-aplicación-de-transformaciones-pertinentes:-2.1\"><span class=\"toc-item-num\">2.1&nbsp;&nbsp;</span>Evaluación de distribuciones y aplicación de transformaciones pertinentes:</a></span></li></ul></li><li><span><a href=\"#Creating-the-models\" data-toc-modified-id=\"Creating-the-models-3\"><span class=\"toc-item-num\">3&nbsp;&nbsp;</span>Creating the models</a></span><ul class=\"toc-item\"><li><span><a href=\"#KNeighborsClassifier\" data-toc-modified-id=\"KNeighborsClassifier-3.1\"><span class=\"toc-item-num\">3.1&nbsp;&nbsp;</span>KNeighborsClassifier</a></span></li><li><span><a href=\"#Decision-tree\" data-toc-modified-id=\"Decision-tree-3.2\"><span class=\"toc-item-num\">3.2&nbsp;&nbsp;</span>Decision tree</a></span></li><li><span><a href=\"#RandomForestClassifier\" data-toc-modified-id=\"RandomForestClassifier-3.3\"><span class=\"toc-item-num\">3.3&nbsp;&nbsp;</span>RandomForestClassifier</a></span></li><li><span><a href=\"#Simple-NN-sequential-model-with-Relu-as-activation-function:\" data-toc-modified-id=\"Simple-NN-sequential-model-with-Relu-as-activation-function:-3.4\"><span class=\"toc-item-num\">3.4&nbsp;&nbsp;</span>Simple NN sequential model with Relu as activation function:</a></span></li><li><span><a href=\"#Simple-NN-sequential-model-with-Relu-as-activation-function-and-dropout-layers:\" data-toc-modified-id=\"Simple-NN-sequential-model-with-Relu-as-activation-function-and-dropout-layers:-3.5\"><span class=\"toc-item-num\">3.5&nbsp;&nbsp;</span>Simple NN sequential model with Relu as activation function and dropout layers:</a></span></li></ul></li><li><span><a href=\"#Model-comparative\" data-toc-modified-id=\"Model-comparative-4\"><span class=\"toc-item-num\">4&nbsp;&nbsp;</span>Model comparative</a></span></li><li><span><a href=\"#Conclusions\" data-toc-modified-id=\"Conclusions-5\"><span class=\"toc-item-num\">5&nbsp;&nbsp;</span>Conclusions</a></span></li></ul></div>"
   ]
  },
  {
   "cell_type": "code",
   "execution_count": 2,
   "id": "8301d62f",
   "metadata": {},
   "outputs": [],
   "source": [
    "import os \n",
    "import pandas as pd \n",
    "import numpy as np\n",
    "from fitter import Fitter, get_common_distributions, get_distributions\n",
    "\n",
    "import matplotlib.pyplot as plt\n",
    "import seaborn as sns\n",
    "\n",
    "import sklearn.preprocessing as sk_prep\n",
    "from sklearn import model_selection\n",
    "from sklearn import metrics\n",
    "from sklearn import tree\n",
    "from sklearn.neighbors import KNeighborsClassifier\n",
    "from sklearn import tree\n",
    "from sklearn.ensemble import RandomForestClassifier\n",
    "\n",
    "from tensorflow.keras import Sequential\n",
    "from tensorflow.keras.layers import Dense\n",
    "from tensorflow.keras.layers import Dropout\n",
    "\n",
    "import pickle\n",
    "\n",
    "import warnings\n",
    "warnings.filterwarnings('ignore')"
   ]
  },
  {
   "cell_type": "code",
   "execution_count": 3,
   "id": "c6e1be95",
   "metadata": {},
   "outputs": [],
   "source": [
    "data_path = '../Data'\n",
    "incendios_path = 'generated_files/final_model_data.csv'"
   ]
  },
  {
   "cell_type": "code",
   "execution_count": 4,
   "id": "c21e0a6f",
   "metadata": {},
   "outputs": [],
   "source": [
    "data = pd.read_csv(os.path.join(data_path, incendios_path), index_col = 0)"
   ]
  },
  {
   "cell_type": "markdown",
   "id": "355394a7",
   "metadata": {},
   "source": [
    "## Selection of variables that truly contribute to the model:"
   ]
  },
  {
   "cell_type": "code",
   "execution_count": 5,
   "id": "f1d9e352",
   "metadata": {},
   "outputs": [],
   "source": [
    "#Based on correlations and feature engineering\n",
    "features = ['superficie', 'idprovincia', 'idmunicipio', 'time_ctrl', 'time_ext', 'month', 'Recursos_ha', 'Eficiencia', 'Y']\n",
    "model_data_1 = data[features]"
   ]
  },
  {
   "cell_type": "code",
   "execution_count": 10,
   "id": "2c5d1ba9",
   "metadata": {},
   "outputs": [
    {
     "data": {
      "text/html": [
       "<div>\n",
       "<style scoped>\n",
       "    .dataframe tbody tr th:only-of-type {\n",
       "        vertical-align: middle;\n",
       "    }\n",
       "\n",
       "    .dataframe tbody tr th {\n",
       "        vertical-align: top;\n",
       "    }\n",
       "\n",
       "    .dataframe thead th {\n",
       "        text-align: right;\n",
       "    }\n",
       "</style>\n",
       "<table border=\"1\" class=\"dataframe\">\n",
       "  <thead>\n",
       "    <tr style=\"text-align: right;\">\n",
       "      <th></th>\n",
       "      <th>superficie</th>\n",
       "      <th>idprovincia</th>\n",
       "      <th>idmunicipio</th>\n",
       "      <th>time_ctrl</th>\n",
       "      <th>time_ext</th>\n",
       "      <th>month</th>\n",
       "      <th>Recursos_ha</th>\n",
       "      <th>Eficiencia</th>\n",
       "      <th>Y</th>\n",
       "    </tr>\n",
       "  </thead>\n",
       "  <tbody>\n",
       "    <tr>\n",
       "      <th>83</th>\n",
       "      <td>1.01</td>\n",
       "      <td>4</td>\n",
       "      <td>54</td>\n",
       "      <td>180</td>\n",
       "      <td>239</td>\n",
       "      <td>1</td>\n",
       "      <td>2.970297</td>\n",
       "      <td>58.415842</td>\n",
       "      <td>1</td>\n",
       "    </tr>\n",
       "    <tr>\n",
       "      <th>1838</th>\n",
       "      <td>2.90</td>\n",
       "      <td>18</td>\n",
       "      <td>44</td>\n",
       "      <td>220</td>\n",
       "      <td>280</td>\n",
       "      <td>1</td>\n",
       "      <td>3.793103</td>\n",
       "      <td>20.689655</td>\n",
       "      <td>0</td>\n",
       "    </tr>\n",
       "    <tr>\n",
       "      <th>6212</th>\n",
       "      <td>3.00</td>\n",
       "      <td>43</td>\n",
       "      <td>86</td>\n",
       "      <td>160</td>\n",
       "      <td>340</td>\n",
       "      <td>1</td>\n",
       "      <td>11.000000</td>\n",
       "      <td>60.000000</td>\n",
       "      <td>0</td>\n",
       "    </tr>\n",
       "    <tr>\n",
       "      <th>1839</th>\n",
       "      <td>1.50</td>\n",
       "      <td>18</td>\n",
       "      <td>906</td>\n",
       "      <td>60</td>\n",
       "      <td>180</td>\n",
       "      <td>1</td>\n",
       "      <td>5.333333</td>\n",
       "      <td>80.000000</td>\n",
       "      <td>0</td>\n",
       "    </tr>\n",
       "    <tr>\n",
       "      <th>1815</th>\n",
       "      <td>3.00</td>\n",
       "      <td>17</td>\n",
       "      <td>132</td>\n",
       "      <td>70</td>\n",
       "      <td>140</td>\n",
       "      <td>2</td>\n",
       "      <td>4.000000</td>\n",
       "      <td>23.333333</td>\n",
       "      <td>0</td>\n",
       "    </tr>\n",
       "  </tbody>\n",
       "</table>\n",
       "</div>"
      ],
      "text/plain": [
       "      superficie  idprovincia  idmunicipio  time_ctrl  time_ext  month  \\\n",
       "83          1.01            4           54        180       239      1   \n",
       "1838        2.90           18           44        220       280      1   \n",
       "6212        3.00           43           86        160       340      1   \n",
       "1839        1.50           18          906         60       180      1   \n",
       "1815        3.00           17          132         70       140      2   \n",
       "\n",
       "      Recursos_ha  Eficiencia  Y  \n",
       "83       2.970297   58.415842  1  \n",
       "1838     3.793103   20.689655  0  \n",
       "6212    11.000000   60.000000  0  \n",
       "1839     5.333333   80.000000  0  \n",
       "1815     4.000000   23.333333  0  "
      ]
     },
     "execution_count": 10,
     "metadata": {},
     "output_type": "execute_result"
    }
   ],
   "source": [
    "model_data_1.head()"
   ]
  },
  {
   "cell_type": "code",
   "execution_count": 12,
   "id": "4acca53e",
   "metadata": {},
   "outputs": [
    {
     "name": "stdout",
     "output_type": "stream",
     "text": [
      "Proportion of observations based on the class to predict.\n"
     ]
    },
    {
     "data": {
      "text/plain": [
       "0    50.053374\n",
       "1    49.946626\n",
       "Name: Y, dtype: float64"
      ]
     },
     "execution_count": 12,
     "metadata": {},
     "output_type": "execute_result"
    }
   ],
   "source": [
    "def cause_per_year(df, field, count = False):\n",
    "    if count:\n",
    "        return df[field].value_counts().sort_index()\n",
    "    return (df[field].value_counts().sort_index() / df.shape[0])*100\n",
    "\n",
    "print('Proportion of observations based on the class to predict.')\n",
    "cause_per_year(model_data_1, 'Y')"
   ]
  },
  {
   "cell_type": "markdown",
   "id": "ee71d6a0",
   "metadata": {},
   "source": [
    "## Transformations"
   ]
  },
  {
   "cell_type": "markdown",
   "id": "ec5bfa1b",
   "metadata": {},
   "source": [
    "### Evaluación de distribuciones y aplicación de transformaciones pertinentes:"
   ]
  },
  {
   "cell_type": "code",
   "execution_count": 13,
   "id": "a8e00b6f",
   "metadata": {},
   "outputs": [
    {
     "data": {
      "image/png": "[encoded data removed]",
      "text/plain": [
       "<Figure size 2000x800 with 5 Axes>"
      ]
     },
     "metadata": {},
     "output_type": "display_data"
    }
   ],
   "source": [
    "fig, (ax1, ax2, ax3, ax4, ax5) = plt.subplots(nrows=1, ncols=5, figsize=(20, 8))\n",
    "plt.subplots_adjust(wspace=0.3, hspace=0.4)\n",
    "sns.histplot(x = model_data_1['superficie'], ax = ax1)\n",
    "sns.histplot(x = model_data_1['time_ctrl'], ax = ax2)\n",
    "sns.histplot(x = model_data_1['time_ext'], ax = ax3)\n",
    "sns.histplot(x = model_data_1['Recursos_ha'], ax = ax4)\n",
    "sns.histplot(x = model_data_1['Eficiencia'], ax = ax5)\n",
    "ax1.set_title('Superficie\\n', fontsize = 20)\n",
    "ax2.set_title('Tiempo de control\\n', fontsize = 20)\n",
    "ax3.set_title('Tiempo de extinción\\n', fontsize = 20)\n",
    "ax4.set_title('Recursos por hectárea\\n', fontsize = 20)\n",
    "ax5.set_title('Eficiencia\\n', fontsize = 20)\n",
    "plt.show()"
   ]
  },
  {
   "cell_type": "markdown",
   "id": "169b5d08",
   "metadata": {},
   "source": [
    "While non-parametric models will be applied to predict the classes of interest, many of the algorithms that optimize model learning perform better with scaled (or compressed) data, normal distributions, or standardized data. In our case, given the distributions observed associated with the relevant numerical variables, we can consider data transformation.\n",
    "\n",
    "Considering the geometry of the distributions, most of these variables might be exhibiting exponential or lognormal distributions (which actually makes sense given the nature of these variables as real and positive values). Therefore, we can explore an appropriate transformation based on the type of distribution observed. This would, to some extent, normalize the data. To evaluate the distributions of these variables, we can utilize the **Fitter** function from the fitter module, which provides functions to calculate the most probable distribution of a variable:"
   ]
  },
  {
   "cell_type": "code",
   "execution_count": 14,
   "id": "b63d18fd",
   "metadata": {},
   "outputs": [
    {
     "name": "stdout",
     "output_type": "stream",
     "text": [
      "superficie\n",
      "Distribución más aproximada:  expon\n",
      "time_ctrl\n",
      "Distribución más aproximada:  lognorm\n",
      "time_ext\n",
      "Distribución más aproximada:  lognorm\n",
      "Recursos_ha\n",
      "Distribución más aproximada:  lognorm\n",
      "Eficiencia\n",
      "Distribución más aproximada:  expon\n"
     ]
    }
   ],
   "source": [
    "dist = ['lognorm', 'expon']\n",
    "for variable in ['superficie','time_ctrl', 'time_ext', 'Recursos_ha', 'Eficiencia']:\n",
    "    print(variable)\n",
    "    array = model_data_1[variable]\n",
    "    f = Fitter(array, distributions = dist)\n",
    "    f.fit()\n",
    "    print('Distribución más aproximada: ', list(f.get_best(method = 'sumsquare_error').keys())[0])"
   ]
  },
  {
   "cell_type": "code",
   "execution_count": 15,
   "id": "be0a958a",
   "metadata": {},
   "outputs": [],
   "source": [
    "def new_data (pandasSeries, transformation = 'lognorm', log_base = None):\n",
    "    array = np.array(pandasSeries)\n",
    "    if transformation == 'lognorm':\n",
    "        if log_base:\n",
    "            return eval(f'np.log{log_base}(array)')\n",
    "        return np.log(array)\n",
    "    elif transformation == 'Quantile':\n",
    "        lenght = len(array)\n",
    "        array = array.reshape(lenght,1)\n",
    "        quantile = sk_prep.QuantileTransformer(output_distribution='normal')\n",
    "        new_data = quantile.fit_transform(array)\n",
    "        return new_data.reshape(lenght)"
   ]
  },
  {
   "cell_type": "markdown",
   "id": "217f15f8",
   "metadata": {},
   "source": [
    "We will apply two types of transformations to the data:\n",
    "\n",
    "* For exponential distributions, we will apply a QuantileTransformer transformation.\n",
    "* For lognormal distributions, we will apply a logarithmic transformation."
   ]
  },
  {
   "cell_type": "code",
   "execution_count": 17,
   "id": "8fdad9f6",
   "metadata": {},
   "outputs": [],
   "source": [
    "new_surf = new_data (model_data_1['superficie'], transformation = 'Quantile')\n",
    "new_time_ctrl = new_data (model_data_1['time_ctrl'], transformation = 'lognorm')\n",
    "new_time_ext = new_data (model_data_1['time_ext'], transformation = 'lognorm')\n",
    "new_Recursos_ha = new_data (model_data_1['Recursos_ha'], transformation = 'lognorm')\n",
    "new_Eficiencia = new_data (model_data_1['Eficiencia'], transformation = 'Quantile')"
   ]
  },
  {
   "cell_type": "code",
   "execution_count": 18,
   "id": "8bb004c6",
   "metadata": {},
   "outputs": [
    {
     "data": {
      "image/png": "[encoded data removed]",
      "text/plain": [
       "<Figure size 2000x800 with 5 Axes>"
      ]
     },
     "metadata": {},
     "output_type": "display_data"
    }
   ],
   "source": [
    "fig, (ax1, ax2, ax3, ax4, ax5) = plt.subplots(nrows=1, ncols=5, figsize=(20, 8))\n",
    "plt.subplots_adjust(wspace=0.3, hspace=0.4)\n",
    "sns.histplot(x = new_surf, ax = ax1, kde=True)\n",
    "sns.histplot(x = new_time_ctrl, ax = ax2, kde=True)\n",
    "sns.histplot(x = new_time_ext, ax = ax3, kde=True)\n",
    "sns.histplot(x = new_Recursos_ha, ax = ax4,kde=True)\n",
    "sns.histplot(x = new_Eficiencia, ax = ax5, kde=True)\n",
    "ax1.set_title('Superficie\\nTransf.\\n', fontsize = 15)\n",
    "ax2.set_title('Tiempo de control\\nTransf.\\n', fontsize = 15)\n",
    "ax3.set_title('Tiempo de extinción\\nTransf.\\n', fontsize = 15)\n",
    "ax4.set_title('Recursos por hectárea\\nTransf.\\n', fontsize = 15)\n",
    "ax5.set_title('Eficiencia\\nTransf.\\n', fontsize = 15)\n",
    "fig.suptitle('Efecto de las transformaciones sobre las distribuciones de variables numéricas de interés\\n', fontsize = 20)\n",
    "fig.tight_layout()\n",
    "plt.show()"
   ]
  },
  {
   "cell_type": "markdown",
   "id": "38d07e13",
   "metadata": {},
   "source": [
    "## Creating the models"
   ]
  },
  {
   "cell_type": "code",
   "execution_count": 19,
   "id": "60fea8f7",
   "metadata": {},
   "outputs": [],
   "source": [
    "model_data_2 = model_data_1[['idprovincia', 'idmunicipio','month', 'Y']]\n",
    "model_data_2['surf_transform'] = new_surf\n",
    "model_data_2['time_ctrl_transform'] = new_time_ctrl\n",
    "model_data_2['time_ext_transform'] = new_time_ext\n",
    "model_data_2['Rec_ha_transform'] = new_Recursos_ha\n",
    "model_data_2['ef_transform'] = new_Eficiencia\n",
    "\n",
    "X = model_data_2[['surf_transform', 'idprovincia', \n",
    "                  'idmunicipio','time_ctrl_transform',\n",
    "                  'time_ext_transform', 'Rec_ha_transform',\n",
    "                 'ef_transform','month']]\n",
    "\n",
    "Y = model_data_2[['Y']]"
   ]
  },
  {
   "cell_type": "code",
   "execution_count": 20,
   "id": "a41eab6d",
   "metadata": {},
   "outputs": [],
   "source": [
    "X_tr, X_ts, Y_tr, Y_ts = model_selection.train_test_split(X, Y, test_size = .25, random_state = 1234, stratify = Y)"
   ]
  },
  {
   "cell_type": "code",
   "execution_count": 21,
   "id": "eab6f2f8",
   "metadata": {},
   "outputs": [
    {
     "name": "stdout",
     "output_type": "stream",
     "text": [
      "(12646, 8)\n",
      "(4216, 8)\n",
      "(12646, 1)\n",
      "(4216, 1)\n"
     ]
    }
   ],
   "source": [
    "print(X_tr.shape)\n",
    "print(X_ts.shape)\n",
    "print(Y_tr.shape)\n",
    "print(Y_ts.shape)"
   ]
  },
  {
   "cell_type": "code",
   "execution_count": 23,
   "id": "83fe2a15",
   "metadata": {},
   "outputs": [],
   "source": [
    "# Function to store and calculate coefficients associated with model performance:\n",
    "def matrix_data(confusion_matrix):\n",
    "    data = {'True_Positive':confusion_matrix[1,1],\n",
    "            'True_Negative':confusion_matrix[0,0],\n",
    "            'False_Positive':confusion_matrix[0,1],\n",
    "            'False_Negative':confusion_matrix[1,0]}\n",
    "    \n",
    "    metrics = {}\n",
    "    metrics['Accuracy'] = (data['True_Positive']+data['True_Negative'])/(data['True_Positive']+data['True_Negative']+data['False_Positive']+data['False_Negative'])\n",
    "    metrics['Misclasification_Rate'] = (data['False_Positive']+data['False_Negative'])/(data['True_Positive']+data['True_Negative']+data['False_Positive']+data['False_Negative'])\n",
    "    metrics['Sensitivity'] = data['True_Positive']/(data['True_Positive']+data['False_Negative'])\n",
    "    metrics['Specificity'] = data['True_Negative']/(data['True_Negative']+data['False_Positive'])\n",
    "    metrics['False_Positive_Rate'] = data['False_Positive']/(data['True_Negative']+data['False_Positive'])\n",
    "    metrics['Precision'] = data['True_Positive']/(data['True_Positive']+data['False_Positive'])\n",
    "    \n",
    "    return metrics"
   ]
  },
  {
   "cell_type": "markdown",
   "id": "54251a6f",
   "metadata": {},
   "source": [
    "### KNeighborsClassifier"
   ]
  },
  {
   "cell_type": "code",
   "execution_count": 24,
   "id": "0485b44e",
   "metadata": {},
   "outputs": [],
   "source": [
    "# Initialize KNeighborsClassifier\n",
    "KNN = KNeighborsClassifier()\n",
    "\n",
    "# Prepare a collection with the number of neighbors for evaluating each observation. This way, we can\n",
    "# evaluate the best K for this algorithm:\n",
    "dict_grid = dict(n_neighbors=[i for i in range(1, 50)], weights=['uniform', 'distance'])\n",
    "\n",
    "# Instantiate the grid for evaluating the best K:\n",
    "my_grid = model_selection.GridSearchCV(KNN, dict_grid, cv=15, scoring='accuracy', n_jobs=-1)"
   ]
  },
  {
   "cell_type": "code",
   "execution_count": 25,
   "id": "e521458d",
   "metadata": {},
   "outputs": [
    {
     "data": {
      "text/html": [
       "<style>#sk-container-id-1 {color: black;background-color: white;}#sk-container-id-1 pre{padding: 0;}#sk-container-id-1 div.sk-toggleable {background-color: white;}#sk-container-id-1 label.sk-toggleable__label {cursor: pointer;display: block;width: 100%;margin-bottom: 0;padding: 0.3em;box-sizing: border-box;text-align: center;}#sk-container-id-1 label.sk-toggleable__label-arrow:before {content: \"▸\";float: left;margin-right: 0.25em;color: #696969;}#sk-container-id-1 label.sk-toggleable__label-arrow:hover:before {color: black;}#sk-container-id-1 div.sk-estimator:hover label.sk-toggleable__label-arrow:before {color: black;}#sk-container-id-1 div.sk-toggleable__content {max-height: 0;max-width: 0;overflow: hidden;text-align: left;background-color: #f0f8ff;}#sk-container-id-1 div.sk-toggleable__content pre {margin: 0.2em;color: black;border-radius: 0.25em;background-color: #f0f8ff;}#sk-container-id-1 input.sk-toggleable__control:checked~div.sk-toggleable__content {max-height: 200px;max-width: 100%;overflow: auto;}#sk-container-id-1 input.sk-toggleable__control:checked~label.sk-toggleable__label-arrow:before {content: \"▾\";}#sk-container-id-1 div.sk-estimator input.sk-toggleable__control:checked~label.sk-toggleable__label {background-color: #d4ebff;}#sk-container-id-1 div.sk-label input.sk-toggleable__control:checked~label.sk-toggleable__label {background-color: #d4ebff;}#sk-container-id-1 input.sk-hidden--visually {border: 0;clip: rect(1px 1px 1px 1px);clip: rect(1px, 1px, 1px, 1px);height: 1px;margin: -1px;overflow: hidden;padding: 0;position: absolute;width: 1px;}#sk-container-id-1 div.sk-estimator {font-family: monospace;background-color: #f0f8ff;border: 1px dotted black;border-radius: 0.25em;box-sizing: border-box;margin-bottom: 0.5em;}#sk-container-id-1 div.sk-estimator:hover {background-color: #d4ebff;}#sk-container-id-1 div.sk-parallel-item::after {content: \"\";width: 100%;border-bottom: 1px solid gray;flex-grow: 1;}#sk-container-id-1 div.sk-label:hover label.sk-toggleable__label {background-color: #d4ebff;}#sk-container-id-1 div.sk-serial::before {content: \"\";position: absolute;border-left: 1px solid gray;box-sizing: border-box;top: 0;bottom: 0;left: 50%;z-index: 0;}#sk-container-id-1 div.sk-serial {display: flex;flex-direction: column;align-items: center;background-color: white;padding-right: 0.2em;padding-left: 0.2em;position: relative;}#sk-container-id-1 div.sk-item {position: relative;z-index: 1;}#sk-container-id-1 div.sk-parallel {display: flex;align-items: stretch;justify-content: center;background-color: white;position: relative;}#sk-container-id-1 div.sk-item::before, #sk-container-id-1 div.sk-parallel-item::before {content: \"\";position: absolute;border-left: 1px solid gray;box-sizing: border-box;top: 0;bottom: 0;left: 50%;z-index: -1;}#sk-container-id-1 div.sk-parallel-item {display: flex;flex-direction: column;z-index: 1;position: relative;background-color: white;}#sk-container-id-1 div.sk-parallel-item:first-child::after {align-self: flex-end;width: 50%;}#sk-container-id-1 div.sk-parallel-item:last-child::after {align-self: flex-start;width: 50%;}#sk-container-id-1 div.sk-parallel-item:only-child::after {width: 0;}#sk-container-id-1 div.sk-dashed-wrapped {border: 1px dashed gray;margin: 0 0.4em 0.5em 0.4em;box-sizing: border-box;padding-bottom: 0.4em;background-color: white;}#sk-container-id-1 div.sk-label label {font-family: monospace;font-weight: bold;display: inline-block;line-height: 1.2em;}#sk-container-id-1 div.sk-label-container {text-align: center;}#sk-container-id-1 div.sk-container {/* jupyter's `normalize.less` sets `[hidden] { display: none; }` but bootstrap.min.css set `[hidden] { display: none !important; }` so we also need the `!important` here to be able to override the default hidden behavior on the sphinx rendered scikit-learn.org. See: https://github.com/scikit-learn/scikit-learn/issues/21755 */display: inline-block !important;position: relative;}#sk-container-id-1 div.sk-text-repr-fallback {display: none;}</style><div id=\"sk-container-id-1\" class=\"sk-top-container\"><div class=\"sk-text-repr-fallback\"><pre>GridSearchCV(cv=15, estimator=KNeighborsClassifier(), n_jobs=-1,\n",
       "             param_grid={&#x27;n_neighbors&#x27;: [1, 2, 3, 4, 5, 6, 7, 8, 9, 10, 11, 12,\n",
       "                                         13, 14, 15, 16, 17, 18, 19, 20, 21, 22,\n",
       "                                         23, 24, 25, 26, 27, 28, 29, 30, ...],\n",
       "                         &#x27;weights&#x27;: [&#x27;uniform&#x27;, &#x27;distance&#x27;]},\n",
       "             scoring=&#x27;accuracy&#x27;)</pre><b>In a Jupyter environment, please rerun this cell to show the HTML representation or trust the notebook. <br />On GitHub, the HTML representation is unable to render, please try loading this page with nbviewer.org.</b></div><div class=\"sk-container\" hidden><div class=\"sk-item sk-dashed-wrapped\"><div class=\"sk-label-container\"><div class=\"sk-label sk-toggleable\"><input class=\"sk-toggleable__control sk-hidden--visually\" id=\"sk-estimator-id-1\" type=\"checkbox\" ><label for=\"sk-estimator-id-1\" class=\"sk-toggleable__label sk-toggleable__label-arrow\">GridSearchCV</label><div class=\"sk-toggleable__content\"><pre>GridSearchCV(cv=15, estimator=KNeighborsClassifier(), n_jobs=-1,\n",
       "             param_grid={&#x27;n_neighbors&#x27;: [1, 2, 3, 4, 5, 6, 7, 8, 9, 10, 11, 12,\n",
       "                                         13, 14, 15, 16, 17, 18, 19, 20, 21, 22,\n",
       "                                         23, 24, 25, 26, 27, 28, 29, 30, ...],\n",
       "                         &#x27;weights&#x27;: [&#x27;uniform&#x27;, &#x27;distance&#x27;]},\n",
       "             scoring=&#x27;accuracy&#x27;)</pre></div></div></div><div class=\"sk-parallel\"><div class=\"sk-parallel-item\"><div class=\"sk-item\"><div class=\"sk-label-container\"><div class=\"sk-label sk-toggleable\"><input class=\"sk-toggleable__control sk-hidden--visually\" id=\"sk-estimator-id-2\" type=\"checkbox\" ><label for=\"sk-estimator-id-2\" class=\"sk-toggleable__label sk-toggleable__label-arrow\">estimator: KNeighborsClassifier</label><div class=\"sk-toggleable__content\"><pre>KNeighborsClassifier()</pre></div></div></div><div class=\"sk-serial\"><div class=\"sk-item\"><div class=\"sk-estimator sk-toggleable\"><input class=\"sk-toggleable__control sk-hidden--visually\" id=\"sk-estimator-id-3\" type=\"checkbox\" ><label for=\"sk-estimator-id-3\" class=\"sk-toggleable__label sk-toggleable__label-arrow\">KNeighborsClassifier</label><div class=\"sk-toggleable__content\"><pre>KNeighborsClassifier()</pre></div></div></div></div></div></div></div></div></div></div>"
      ],
      "text/plain": [
       "GridSearchCV(cv=15, estimator=KNeighborsClassifier(), n_jobs=-1,\n",
       "             param_grid={'n_neighbors': [1, 2, 3, 4, 5, 6, 7, 8, 9, 10, 11, 12,\n",
       "                                         13, 14, 15, 16, 17, 18, 19, 20, 21, 22,\n",
       "                                         23, 24, 25, 26, 27, 28, 29, 30, ...],\n",
       "                         'weights': ['uniform', 'distance']},\n",
       "             scoring='accuracy')"
      ]
     },
     "execution_count": 25,
     "metadata": {},
     "output_type": "execute_result"
    }
   ],
   "source": [
    "#Ajustamos nuestros datos al modelo:\n",
    "my_grid.fit(X_tr, Y_tr)"
   ]
  },
  {
   "cell_type": "code",
   "execution_count": 26,
   "id": "bb7dc36a",
   "metadata": {},
   "outputs": [
    {
     "name": "stdout",
     "output_type": "stream",
     "text": [
      "accuracy: 0.6945271813784741\n",
      "KNeighborsClassifier(n_neighbors=27, weights='distance')\n"
     ]
    }
   ],
   "source": [
    "# Evaluate the parameters of interest to establish a final prediction model using KNeighborsClassifier\n",
    "print('accuracy:', my_grid.best_score_)\n",
    "print(my_grid.best_estimator_)"
   ]
  },
  {
   "cell_type": "code",
   "execution_count": 27,
   "id": "304f78bf",
   "metadata": {},
   "outputs": [],
   "source": [
    "# Performance on test data\n",
    "K_nc = KNeighborsClassifier(n_neighbors=11, weights='distance')\n",
    "K_nc.fit(X_tr, Y_tr)\n",
    "# Predicted values\n",
    "KNN_predict_values = K_nc.predict(X_ts)"
   ]
  },
  {
   "cell_type": "code",
   "execution_count": 61,
   "id": "e356c73f",
   "metadata": {},
   "outputs": [],
   "source": [
    "filenameKNN_ = '../Data/models/KNN_model.sav'\n",
    "pickle.dump(K_nc, open(filenameKNN_, 'wb'))"
   ]
  },
  {
   "cell_type": "code",
   "execution_count": 28,
   "id": "015b5614",
   "metadata": {},
   "outputs": [],
   "source": [
    "# Confusion matrix:\n",
    "mat_conf_knn = metrics.confusion_matrix(Y_ts, KNN_predict_values)"
   ]
  },
  {
   "cell_type": "code",
   "execution_count": 30,
   "id": "f734d9c1",
   "metadata": {},
   "outputs": [
    {
     "data": {
      "text/plain": [
       "{'Accuracy': 0.700426944971537,\n",
       " 'Misclasification_Rate': 0.299573055028463,\n",
       " 'Sensitivity': 0.7113010446343779,\n",
       " 'Specificity': 0.6895734597156398,\n",
       " 'False_Positive_Rate': 0.3104265402843602,\n",
       " 'Precision': 0.6957733395262424}"
      ]
     },
     "execution_count": 30,
     "metadata": {},
     "output_type": "execute_result"
    }
   ],
   "source": [
    "#performance\n",
    "matrix_data(mat_conf_knn)"
   ]
  },
  {
   "cell_type": "markdown",
   "id": "154d5bc9",
   "metadata": {},
   "source": [
    "### Decision tree"
   ]
  },
  {
   "cell_type": "code",
   "execution_count": 31,
   "id": "d12de513",
   "metadata": {},
   "outputs": [
    {
     "data": {
      "text/html": [
       "<style>#sk-container-id-2 {color: black;background-color: white;}#sk-container-id-2 pre{padding: 0;}#sk-container-id-2 div.sk-toggleable {background-color: white;}#sk-container-id-2 label.sk-toggleable__label {cursor: pointer;display: block;width: 100%;margin-bottom: 0;padding: 0.3em;box-sizing: border-box;text-align: center;}#sk-container-id-2 label.sk-toggleable__label-arrow:before {content: \"▸\";float: left;margin-right: 0.25em;color: #696969;}#sk-container-id-2 label.sk-toggleable__label-arrow:hover:before {color: black;}#sk-container-id-2 div.sk-estimator:hover label.sk-toggleable__label-arrow:before {color: black;}#sk-container-id-2 div.sk-toggleable__content {max-height: 0;max-width: 0;overflow: hidden;text-align: left;background-color: #f0f8ff;}#sk-container-id-2 div.sk-toggleable__content pre {margin: 0.2em;color: black;border-radius: 0.25em;background-color: #f0f8ff;}#sk-container-id-2 input.sk-toggleable__control:checked~div.sk-toggleable__content {max-height: 200px;max-width: 100%;overflow: auto;}#sk-container-id-2 input.sk-toggleable__control:checked~label.sk-toggleable__label-arrow:before {content: \"▾\";}#sk-container-id-2 div.sk-estimator input.sk-toggleable__control:checked~label.sk-toggleable__label {background-color: #d4ebff;}#sk-container-id-2 div.sk-label input.sk-toggleable__control:checked~label.sk-toggleable__label {background-color: #d4ebff;}#sk-container-id-2 input.sk-hidden--visually {border: 0;clip: rect(1px 1px 1px 1px);clip: rect(1px, 1px, 1px, 1px);height: 1px;margin: -1px;overflow: hidden;padding: 0;position: absolute;width: 1px;}#sk-container-id-2 div.sk-estimator {font-family: monospace;background-color: #f0f8ff;border: 1px dotted black;border-radius: 0.25em;box-sizing: border-box;margin-bottom: 0.5em;}#sk-container-id-2 div.sk-estimator:hover {background-color: #d4ebff;}#sk-container-id-2 div.sk-parallel-item::after {content: \"\";width: 100%;border-bottom: 1px solid gray;flex-grow: 1;}#sk-container-id-2 div.sk-label:hover label.sk-toggleable__label {background-color: #d4ebff;}#sk-container-id-2 div.sk-serial::before {content: \"\";position: absolute;border-left: 1px solid gray;box-sizing: border-box;top: 0;bottom: 0;left: 50%;z-index: 0;}#sk-container-id-2 div.sk-serial {display: flex;flex-direction: column;align-items: center;background-color: white;padding-right: 0.2em;padding-left: 0.2em;position: relative;}#sk-container-id-2 div.sk-item {position: relative;z-index: 1;}#sk-container-id-2 div.sk-parallel {display: flex;align-items: stretch;justify-content: center;background-color: white;position: relative;}#sk-container-id-2 div.sk-item::before, #sk-container-id-2 div.sk-parallel-item::before {content: \"\";position: absolute;border-left: 1px solid gray;box-sizing: border-box;top: 0;bottom: 0;left: 50%;z-index: -1;}#sk-container-id-2 div.sk-parallel-item {display: flex;flex-direction: column;z-index: 1;position: relative;background-color: white;}#sk-container-id-2 div.sk-parallel-item:first-child::after {align-self: flex-end;width: 50%;}#sk-container-id-2 div.sk-parallel-item:last-child::after {align-self: flex-start;width: 50%;}#sk-container-id-2 div.sk-parallel-item:only-child::after {width: 0;}#sk-container-id-2 div.sk-dashed-wrapped {border: 1px dashed gray;margin: 0 0.4em 0.5em 0.4em;box-sizing: border-box;padding-bottom: 0.4em;background-color: white;}#sk-container-id-2 div.sk-label label {font-family: monospace;font-weight: bold;display: inline-block;line-height: 1.2em;}#sk-container-id-2 div.sk-label-container {text-align: center;}#sk-container-id-2 div.sk-container {/* jupyter's `normalize.less` sets `[hidden] { display: none; }` but bootstrap.min.css set `[hidden] { display: none !important; }` so we also need the `!important` here to be able to override the default hidden behavior on the sphinx rendered scikit-learn.org. See: https://github.com/scikit-learn/scikit-learn/issues/21755 */display: inline-block !important;position: relative;}#sk-container-id-2 div.sk-text-repr-fallback {display: none;}</style><div id=\"sk-container-id-2\" class=\"sk-top-container\"><div class=\"sk-text-repr-fallback\"><pre>DecisionTreeClassifier(random_state=1234)</pre><b>In a Jupyter environment, please rerun this cell to show the HTML representation or trust the notebook. <br />On GitHub, the HTML representation is unable to render, please try loading this page with nbviewer.org.</b></div><div class=\"sk-container\" hidden><div class=\"sk-item\"><div class=\"sk-estimator sk-toggleable\"><input class=\"sk-toggleable__control sk-hidden--visually\" id=\"sk-estimator-id-4\" type=\"checkbox\" checked><label for=\"sk-estimator-id-4\" class=\"sk-toggleable__label sk-toggleable__label-arrow\">DecisionTreeClassifier</label><div class=\"sk-toggleable__content\"><pre>DecisionTreeClassifier(random_state=1234)</pre></div></div></div></div></div>"
      ],
      "text/plain": [
       "DecisionTreeClassifier(random_state=1234)"
      ]
     },
     "execution_count": 31,
     "metadata": {},
     "output_type": "execute_result"
    }
   ],
   "source": [
    "# Initialize the model:\n",
    "tree_cls = tree.DecisionTreeClassifier(random_state=1234)\n",
    "# Fit the model to the training data:\n",
    "tree_cls.fit(X_tr, Y_tr)"
   ]
  },
  {
   "cell_type": "code",
   "execution_count": 62,
   "id": "8c480660",
   "metadata": {},
   "outputs": [],
   "source": [
    "filenametree_ = '../Data/models/tree_model.sav'\n",
    "pickle.dump(tree_cls, open(filenametree_, 'wb'))"
   ]
  },
  {
   "cell_type": "code",
   "execution_count": 32,
   "id": "715b29fe",
   "metadata": {},
   "outputs": [],
   "source": [
    "# Confusion matrix creation:\n",
    "tree_cls_predict_values = tree_cls.predict(X_ts)\n",
    "mat_conf_tree_cls = metrics.confusion_matrix(Y_ts, tree_cls_predict_values)"
   ]
  },
  {
   "cell_type": "code",
   "execution_count": 33,
   "id": "3dabcaba",
   "metadata": {},
   "outputs": [
    {
     "data": {
      "text/plain": [
       "{'Accuracy': 0.6363851992409867,\n",
       " 'Misclasification_Rate': 0.36361480075901326,\n",
       " 'Sensitivity': 0.6334283000949668,\n",
       " 'Specificity': 0.6393364928909953,\n",
       " 'False_Positive_Rate': 0.36066350710900474,\n",
       " 'Precision': 0.6367541766109786}"
      ]
     },
     "execution_count": 33,
     "metadata": {},
     "output_type": "execute_result"
    }
   ],
   "source": [
    "#performance\n",
    "matrix_data(mat_conf_tree_cls)"
   ]
  },
  {
   "cell_type": "markdown",
   "id": "2d640e27",
   "metadata": {},
   "source": [
    "### RandomForestClassifier"
   ]
  },
  {
   "cell_type": "code",
   "execution_count": 34,
   "id": "c987480d",
   "metadata": {},
   "outputs": [
    {
     "data": {
      "text/html": [
       "<style>#sk-container-id-3 {color: black;background-color: white;}#sk-container-id-3 pre{padding: 0;}#sk-container-id-3 div.sk-toggleable {background-color: white;}#sk-container-id-3 label.sk-toggleable__label {cursor: pointer;display: block;width: 100%;margin-bottom: 0;padding: 0.3em;box-sizing: border-box;text-align: center;}#sk-container-id-3 label.sk-toggleable__label-arrow:before {content: \"▸\";float: left;margin-right: 0.25em;color: #696969;}#sk-container-id-3 label.sk-toggleable__label-arrow:hover:before {color: black;}#sk-container-id-3 div.sk-estimator:hover label.sk-toggleable__label-arrow:before {color: black;}#sk-container-id-3 div.sk-toggleable__content {max-height: 0;max-width: 0;overflow: hidden;text-align: left;background-color: #f0f8ff;}#sk-container-id-3 div.sk-toggleable__content pre {margin: 0.2em;color: black;border-radius: 0.25em;background-color: #f0f8ff;}#sk-container-id-3 input.sk-toggleable__control:checked~div.sk-toggleable__content {max-height: 200px;max-width: 100%;overflow: auto;}#sk-container-id-3 input.sk-toggleable__control:checked~label.sk-toggleable__label-arrow:before {content: \"▾\";}#sk-container-id-3 div.sk-estimator input.sk-toggleable__control:checked~label.sk-toggleable__label {background-color: #d4ebff;}#sk-container-id-3 div.sk-label input.sk-toggleable__control:checked~label.sk-toggleable__label {background-color: #d4ebff;}#sk-container-id-3 input.sk-hidden--visually {border: 0;clip: rect(1px 1px 1px 1px);clip: rect(1px, 1px, 1px, 1px);height: 1px;margin: -1px;overflow: hidden;padding: 0;position: absolute;width: 1px;}#sk-container-id-3 div.sk-estimator {font-family: monospace;background-color: #f0f8ff;border: 1px dotted black;border-radius: 0.25em;box-sizing: border-box;margin-bottom: 0.5em;}#sk-container-id-3 div.sk-estimator:hover {background-color: #d4ebff;}#sk-container-id-3 div.sk-parallel-item::after {content: \"\";width: 100%;border-bottom: 1px solid gray;flex-grow: 1;}#sk-container-id-3 div.sk-label:hover label.sk-toggleable__label {background-color: #d4ebff;}#sk-container-id-3 div.sk-serial::before {content: \"\";position: absolute;border-left: 1px solid gray;box-sizing: border-box;top: 0;bottom: 0;left: 50%;z-index: 0;}#sk-container-id-3 div.sk-serial {display: flex;flex-direction: column;align-items: center;background-color: white;padding-right: 0.2em;padding-left: 0.2em;position: relative;}#sk-container-id-3 div.sk-item {position: relative;z-index: 1;}#sk-container-id-3 div.sk-parallel {display: flex;align-items: stretch;justify-content: center;background-color: white;position: relative;}#sk-container-id-3 div.sk-item::before, #sk-container-id-3 div.sk-parallel-item::before {content: \"\";position: absolute;border-left: 1px solid gray;box-sizing: border-box;top: 0;bottom: 0;left: 50%;z-index: -1;}#sk-container-id-3 div.sk-parallel-item {display: flex;flex-direction: column;z-index: 1;position: relative;background-color: white;}#sk-container-id-3 div.sk-parallel-item:first-child::after {align-self: flex-end;width: 50%;}#sk-container-id-3 div.sk-parallel-item:last-child::after {align-self: flex-start;width: 50%;}#sk-container-id-3 div.sk-parallel-item:only-child::after {width: 0;}#sk-container-id-3 div.sk-dashed-wrapped {border: 1px dashed gray;margin: 0 0.4em 0.5em 0.4em;box-sizing: border-box;padding-bottom: 0.4em;background-color: white;}#sk-container-id-3 div.sk-label label {font-family: monospace;font-weight: bold;display: inline-block;line-height: 1.2em;}#sk-container-id-3 div.sk-label-container {text-align: center;}#sk-container-id-3 div.sk-container {/* jupyter's `normalize.less` sets `[hidden] { display: none; }` but bootstrap.min.css set `[hidden] { display: none !important; }` so we also need the `!important` here to be able to override the default hidden behavior on the sphinx rendered scikit-learn.org. See: https://github.com/scikit-learn/scikit-learn/issues/21755 */display: inline-block !important;position: relative;}#sk-container-id-3 div.sk-text-repr-fallback {display: none;}</style><div id=\"sk-container-id-3\" class=\"sk-top-container\"><div class=\"sk-text-repr-fallback\"><pre>RandomForestClassifier(n_estimators=1000, n_jobs=-1, random_state=1234)</pre><b>In a Jupyter environment, please rerun this cell to show the HTML representation or trust the notebook. <br />On GitHub, the HTML representation is unable to render, please try loading this page with nbviewer.org.</b></div><div class=\"sk-container\" hidden><div class=\"sk-item\"><div class=\"sk-estimator sk-toggleable\"><input class=\"sk-toggleable__control sk-hidden--visually\" id=\"sk-estimator-id-5\" type=\"checkbox\" checked><label for=\"sk-estimator-id-5\" class=\"sk-toggleable__label sk-toggleable__label-arrow\">RandomForestClassifier</label><div class=\"sk-toggleable__content\"><pre>RandomForestClassifier(n_estimators=1000, n_jobs=-1, random_state=1234)</pre></div></div></div></div></div>"
      ],
      "text/plain": [
       "RandomForestClassifier(n_estimators=1000, n_jobs=-1, random_state=1234)"
      ]
     },
     "execution_count": 34,
     "metadata": {},
     "output_type": "execute_result"
    }
   ],
   "source": [
    "# Initialize the model with 100 trees\n",
    "ran_forest = RandomForestClassifier(n_estimators=1000, random_state=1234, n_jobs=-1)\n",
    "# Train the model with the training data:\n",
    "ran_forest.fit(X_tr, Y_tr)"
   ]
  },
  {
   "cell_type": "code",
   "execution_count": 63,
   "id": "07b9dbc3",
   "metadata": {},
   "outputs": [],
   "source": [
    "filenameforest_ = '../Data/models/forest_model.sav'\n",
    "pickle.dump(ran_forest, open(filenameforest_, 'wb'))"
   ]
  },
  {
   "cell_type": "code",
   "execution_count": 36,
   "id": "72a1659a",
   "metadata": {},
   "outputs": [],
   "source": [
    "# Confusion matrix creation:\n",
    "ran_forest_predict_values = ran_forest.predict(X_ts)\n",
    "mat_conf_ran_forest = metrics.confusion_matrix(Y_ts, ran_forest_predict_values)"
   ]
  },
  {
   "cell_type": "code",
   "execution_count": 37,
   "id": "311d6da3",
   "metadata": {},
   "outputs": [
    {
     "data": {
      "text/plain": [
       "{'Accuracy': 0.7303130929791272,\n",
       " 'Misclasification_Rate': 0.2696869070208729,\n",
       " 'Sensitivity': 0.7103513770180437,\n",
       " 'Specificity': 0.7502369668246446,\n",
       " 'False_Positive_Rate': 0.24976303317535545,\n",
       " 'Precision': 0.7394957983193278}"
      ]
     },
     "execution_count": 37,
     "metadata": {},
     "output_type": "execute_result"
    }
   ],
   "source": [
    "#performance:\n",
    "matrix_data(mat_conf_ran_forest)"
   ]
  },
  {
   "cell_type": "markdown",
   "id": "fa7d9d18",
   "metadata": {},
   "source": [
    "### Simple NN sequential model with Relu as activation function:"
   ]
  },
  {
   "cell_type": "code",
   "execution_count": 38,
   "id": "5ad04285",
   "metadata": {},
   "outputs": [],
   "source": [
    "# Instantiate the model:\n",
    "model = Sequential([Dense(units=8, activation='relu'),\n",
    "                    Dense(units=1, activation='sigmoid')\n",
    "                   ])\n",
    "# Define the loss function, learning rate optimizer, and the metric we want to evaluate\n",
    "# during the training process:\n",
    "model.compile(optimizer='adam', loss='binary_crossentropy', metrics=['accuracy'])"
   ]
  },
  {
   "cell_type": "code",
   "execution_count": 39,
   "id": "e93207b9",
   "metadata": {
    "scrolled": false
   },
   "outputs": [
    {
     "name": "stdout",
     "output_type": "stream",
     "text": [
      "Epoch 1/100\n",
      "396/396 [==============================] - 3s 747us/step - loss: 1.1892 - accuracy: 0.5914\n",
      "Epoch 2/100\n",
      "396/396 [==============================] - 0s 716us/step - loss: 0.6540 - accuracy: 0.6360\n",
      "Epoch 3/100\n",
      "396/396 [==============================] - 0s 714us/step - loss: 0.6415 - accuracy: 0.6455\n",
      "Epoch 4/100\n",
      "396/396 [==============================] - 0s 721us/step - loss: 0.6413 - accuracy: 0.6450\n",
      "Epoch 5/100\n",
      "396/396 [==============================] - 0s 710us/step - loss: 0.6396 - accuracy: 0.6451\n",
      "Epoch 6/100\n",
      "396/396 [==============================] - 0s 740us/step - loss: 0.6360 - accuracy: 0.6417\n",
      "Epoch 7/100\n",
      "396/396 [==============================] - 0s 716us/step - loss: 0.6328 - accuracy: 0.6480\n",
      "Epoch 8/100\n",
      "396/396 [==============================] - 0s 707us/step - loss: 0.6349 - accuracy: 0.6468\n",
      "Epoch 9/100\n",
      "396/396 [==============================] - 0s 732us/step - loss: 0.6356 - accuracy: 0.6490\n",
      "Epoch 10/100\n",
      "396/396 [==============================] - 0s 717us/step - loss: 0.6311 - accuracy: 0.6523\n",
      "Epoch 11/100\n",
      "396/396 [==============================] - 0s 701us/step - loss: 0.6313 - accuracy: 0.6482\n",
      "Epoch 12/100\n",
      "396/396 [==============================] - 0s 691us/step - loss: 0.6354 - accuracy: 0.6491\n",
      "Epoch 13/100\n",
      "396/396 [==============================] - 0s 709us/step - loss: 0.6319 - accuracy: 0.6500\n",
      "Epoch 14/100\n",
      "396/396 [==============================] - 0s 693us/step - loss: 0.6298 - accuracy: 0.6517\n",
      "Epoch 15/100\n",
      "396/396 [==============================] - 0s 692us/step - loss: 0.6332 - accuracy: 0.6507\n",
      "Epoch 16/100\n",
      "396/396 [==============================] - 0s 753us/step - loss: 0.6288 - accuracy: 0.6540\n",
      "Epoch 17/100\n",
      "396/396 [==============================] - 0s 738us/step - loss: 0.6276 - accuracy: 0.6550\n",
      "Epoch 18/100\n",
      "396/396 [==============================] - 0s 723us/step - loss: 0.6299 - accuracy: 0.6532\n",
      "Epoch 19/100\n",
      "396/396 [==============================] - 0s 715us/step - loss: 0.6275 - accuracy: 0.6533\n",
      "Epoch 20/100\n",
      "396/396 [==============================] - 0s 720us/step - loss: 0.6302 - accuracy: 0.6540\n",
      "Epoch 21/100\n",
      "396/396 [==============================] - 0s 743us/step - loss: 0.6305 - accuracy: 0.6536\n",
      "Epoch 22/100\n",
      "396/396 [==============================] - 0s 732us/step - loss: 0.6271 - accuracy: 0.6561\n",
      "Epoch 23/100\n",
      "396/396 [==============================] - 0s 731us/step - loss: 0.6297 - accuracy: 0.6499\n",
      "Epoch 24/100\n",
      "396/396 [==============================] - 0s 736us/step - loss: 0.6323 - accuracy: 0.6540\n",
      "Epoch 25/100\n",
      "396/396 [==============================] - 0s 728us/step - loss: 0.6271 - accuracy: 0.6527\n",
      "Epoch 26/100\n",
      "396/396 [==============================] - 0s 719us/step - loss: 0.6302 - accuracy: 0.6496\n",
      "Epoch 27/100\n",
      "396/396 [==============================] - 0s 739us/step - loss: 0.6264 - accuracy: 0.6541\n",
      "Epoch 28/100\n",
      "396/396 [==============================] - 0s 709us/step - loss: 0.6277 - accuracy: 0.6558\n",
      "Epoch 29/100\n",
      "396/396 [==============================] - 0s 714us/step - loss: 0.6254 - accuracy: 0.6604\n",
      "Epoch 30/100\n",
      "396/396 [==============================] - 0s 707us/step - loss: 0.6275 - accuracy: 0.6548\n",
      "Epoch 31/100\n",
      "396/396 [==============================] - 0s 702us/step - loss: 0.6233 - accuracy: 0.6570\n",
      "Epoch 32/100\n",
      "396/396 [==============================] - 0s 719us/step - loss: 0.6250 - accuracy: 0.6597\n",
      "Epoch 33/100\n",
      "396/396 [==============================] - 0s 725us/step - loss: 0.6267 - accuracy: 0.6570\n",
      "Epoch 34/100\n",
      "396/396 [==============================] - 0s 720us/step - loss: 0.6234 - accuracy: 0.6593\n",
      "Epoch 35/100\n",
      "396/396 [==============================] - 0s 723us/step - loss: 0.6239 - accuracy: 0.6577\n",
      "Epoch 36/100\n",
      "396/396 [==============================] - 0s 701us/step - loss: 0.6235 - accuracy: 0.6580\n",
      "Epoch 37/100\n",
      "396/396 [==============================] - 0s 696us/step - loss: 0.6273 - accuracy: 0.6555\n",
      "Epoch 38/100\n",
      "396/396 [==============================] - 0s 705us/step - loss: 0.6229 - accuracy: 0.6576\n",
      "Epoch 39/100\n",
      "396/396 [==============================] - 0s 694us/step - loss: 0.6218 - accuracy: 0.6581\n",
      "Epoch 40/100\n",
      "396/396 [==============================] - 0s 703us/step - loss: 0.6235 - accuracy: 0.6597\n",
      "Epoch 41/100\n",
      "396/396 [==============================] - 0s 753us/step - loss: 0.6197 - accuracy: 0.6614\n",
      "Epoch 42/100\n",
      "396/396 [==============================] - 0s 678us/step - loss: 0.6231 - accuracy: 0.6578\n",
      "Epoch 43/100\n",
      "396/396 [==============================] - 0s 708us/step - loss: 0.6219 - accuracy: 0.6578\n",
      "Epoch 44/100\n",
      "396/396 [==============================] - 0s 701us/step - loss: 0.6216 - accuracy: 0.6592\n",
      "Epoch 45/100\n",
      "396/396 [==============================] - 0s 695us/step - loss: 0.6186 - accuracy: 0.6629\n",
      "Epoch 46/100\n",
      "396/396 [==============================] - 0s 713us/step - loss: 0.6192 - accuracy: 0.6619\n",
      "Epoch 47/100\n",
      "396/396 [==============================] - 0s 748us/step - loss: 0.6194 - accuracy: 0.6628\n",
      "Epoch 48/100\n",
      "396/396 [==============================] - 0s 715us/step - loss: 0.6197 - accuracy: 0.6596\n",
      "Epoch 49/100\n",
      "396/396 [==============================] - 0s 732us/step - loss: 0.6179 - accuracy: 0.6604\n",
      "Epoch 50/100\n",
      "396/396 [==============================] - 0s 763us/step - loss: 0.6192 - accuracy: 0.6582\n",
      "Epoch 51/100\n",
      "396/396 [==============================] - 0s 730us/step - loss: 0.6172 - accuracy: 0.6639\n",
      "Epoch 52/100\n",
      "396/396 [==============================] - 0s 703us/step - loss: 0.6196 - accuracy: 0.6595\n",
      "Epoch 53/100\n",
      "396/396 [==============================] - 0s 702us/step - loss: 0.6203 - accuracy: 0.6624\n",
      "Epoch 54/100\n",
      "396/396 [==============================] - 0s 711us/step - loss: 0.6185 - accuracy: 0.6612\n",
      "Epoch 55/100\n",
      "396/396 [==============================] - 0s 703us/step - loss: 0.6199 - accuracy: 0.6622\n",
      "Epoch 56/100\n",
      "396/396 [==============================] - 0s 706us/step - loss: 0.6185 - accuracy: 0.6639\n",
      "Epoch 57/100\n",
      "396/396 [==============================] - 0s 697us/step - loss: 0.6175 - accuracy: 0.6627\n",
      "Epoch 58/100\n",
      "396/396 [==============================] - 0s 704us/step - loss: 0.6178 - accuracy: 0.6626\n",
      "Epoch 59/100\n",
      "396/396 [==============================] - 0s 707us/step - loss: 0.6165 - accuracy: 0.6629\n",
      "Epoch 60/100\n",
      "396/396 [==============================] - 0s 706us/step - loss: 0.6191 - accuracy: 0.6623\n",
      "Epoch 61/100\n",
      "396/396 [==============================] - 0s 717us/step - loss: 0.6172 - accuracy: 0.6616\n",
      "Epoch 62/100\n",
      "396/396 [==============================] - 0s 762us/step - loss: 0.6195 - accuracy: 0.6591\n",
      "Epoch 63/100\n",
      "396/396 [==============================] - 0s 754us/step - loss: 0.6152 - accuracy: 0.6662\n",
      "Epoch 64/100\n",
      "396/396 [==============================] - 0s 723us/step - loss: 0.6157 - accuracy: 0.6665\n",
      "Epoch 65/100\n",
      "396/396 [==============================] - 0s 735us/step - loss: 0.6138 - accuracy: 0.6627\n",
      "Epoch 66/100\n",
      "396/396 [==============================] - 0s 737us/step - loss: 0.6176 - accuracy: 0.6640\n",
      "Epoch 67/100\n",
      "396/396 [==============================] - 0s 723us/step - loss: 0.6140 - accuracy: 0.6657\n",
      "Epoch 68/100\n",
      "396/396 [==============================] - 0s 719us/step - loss: 0.6166 - accuracy: 0.6647\n",
      "Epoch 69/100\n",
      "396/396 [==============================] - 0s 763us/step - loss: 0.6172 - accuracy: 0.6659\n",
      "Epoch 70/100\n",
      "396/396 [==============================] - 0s 782us/step - loss: 0.6148 - accuracy: 0.6655\n",
      "Epoch 71/100\n",
      "396/396 [==============================] - 0s 748us/step - loss: 0.6139 - accuracy: 0.6669\n",
      "Epoch 72/100\n",
      "396/396 [==============================] - 0s 700us/step - loss: 0.6176 - accuracy: 0.6594\n",
      "Epoch 73/100\n",
      "396/396 [==============================] - 0s 774us/step - loss: 0.6185 - accuracy: 0.6638\n",
      "Epoch 74/100\n",
      "396/396 [==============================] - 0s 721us/step - loss: 0.6162 - accuracy: 0.6627\n",
      "Epoch 75/100\n",
      "396/396 [==============================] - 0s 726us/step - loss: 0.6194 - accuracy: 0.6607\n",
      "Epoch 76/100\n",
      "396/396 [==============================] - 0s 712us/step - loss: 0.6151 - accuracy: 0.6651\n",
      "Epoch 77/100\n",
      "396/396 [==============================] - 0s 729us/step - loss: 0.6153 - accuracy: 0.6648\n",
      "Epoch 78/100\n",
      "396/396 [==============================] - 0s 741us/step - loss: 0.6143 - accuracy: 0.6635\n",
      "Epoch 79/100\n",
      "396/396 [==============================] - 0s 720us/step - loss: 0.6169 - accuracy: 0.6623\n",
      "Epoch 80/100\n",
      "396/396 [==============================] - 0s 785us/step - loss: 0.6171 - accuracy: 0.6635\n",
      "Epoch 81/100\n",
      "396/396 [==============================] - 0s 812us/step - loss: 0.6158 - accuracy: 0.6652\n",
      "Epoch 82/100\n",
      "396/396 [==============================] - 0s 872us/step - loss: 0.6161 - accuracy: 0.6636\n",
      "Epoch 83/100\n",
      "396/396 [==============================] - 0s 830us/step - loss: 0.6163 - accuracy: 0.6638\n",
      "Epoch 84/100\n",
      "396/396 [==============================] - 0s 815us/step - loss: 0.6184 - accuracy: 0.6635\n",
      "Epoch 85/100\n",
      "396/396 [==============================] - 0s 807us/step - loss: 0.6146 - accuracy: 0.6640\n",
      "Epoch 86/100\n",
      "396/396 [==============================] - 0s 790us/step - loss: 0.6160 - accuracy: 0.6632\n",
      "Epoch 87/100\n",
      "396/396 [==============================] - 0s 790us/step - loss: 0.6161 - accuracy: 0.6642\n",
      "Epoch 88/100\n",
      "396/396 [==============================] - 0s 809us/step - loss: 0.6162 - accuracy: 0.6665\n",
      "Epoch 89/100\n",
      "396/396 [==============================] - 0s 781us/step - loss: 0.6148 - accuracy: 0.6638\n",
      "Epoch 90/100\n",
      "396/396 [==============================] - 0s 793us/step - loss: 0.6159 - accuracy: 0.6636\n",
      "Epoch 91/100\n",
      "396/396 [==============================] - 0s 790us/step - loss: 0.6170 - accuracy: 0.6636\n",
      "Epoch 92/100\n",
      "396/396 [==============================] - 0s 765us/step - loss: 0.6154 - accuracy: 0.6622\n",
      "Epoch 93/100\n",
      "396/396 [==============================] - 0s 718us/step - loss: 0.6193 - accuracy: 0.6600\n",
      "Epoch 94/100\n",
      "396/396 [==============================] - 0s 713us/step - loss: 0.6160 - accuracy: 0.6640\n",
      "Epoch 95/100\n",
      "396/396 [==============================] - 0s 729us/step - loss: 0.6149 - accuracy: 0.6626\n",
      "Epoch 96/100\n",
      "396/396 [==============================] - 0s 736us/step - loss: 0.6146 - accuracy: 0.6646\n",
      "Epoch 97/100\n",
      "396/396 [==============================] - 0s 716us/step - loss: 0.6126 - accuracy: 0.6697\n",
      "Epoch 98/100\n",
      "396/396 [==============================] - 0s 713us/step - loss: 0.6137 - accuracy: 0.6647\n",
      "Epoch 99/100\n",
      "396/396 [==============================] - 0s 706us/step - loss: 0.6156 - accuracy: 0.6650\n",
      "Epoch 100/100\n",
      "396/396 [==============================] - 0s 712us/step - loss: 0.6153 - accuracy: 0.6672\n"
     ]
    },
    {
     "data": {
      "text/plain": [
       "<keras.callbacks.History at 0x19ba79895d0>"
      ]
     },
     "execution_count": 39,
     "metadata": {},
     "output_type": "execute_result"
    }
   ],
   "source": [
    "model.fit(X_tr, Y_tr, epochs = 100, verbose = 1)"
   ]
  },
  {
   "cell_type": "code",
   "execution_count": 40,
   "id": "ea7d0aba",
   "metadata": {},
   "outputs": [
    {
     "name": "stdout",
     "output_type": "stream",
     "text": [
      "132/132 [==============================] - 0s 564us/step\n"
     ]
    }
   ],
   "source": [
    "neural_predictions = model.predict(X_ts)"
   ]
  },
  {
   "cell_type": "code",
   "execution_count": 64,
   "id": "451c583c",
   "metadata": {
    "collapsed": true
   },
   "outputs": [
    {
     "name": "stdout",
     "output_type": "stream",
     "text": [
      "INFO:tensorflow:Assets written to: ram://d887004e-5d2e-47c7-a10e-8ae87f810f1a/assets\n"
     ]
    },
    {
     "name": "stderr",
     "output_type": "stream",
     "text": [
      "INFO:tensorflow:Assets written to: ram://d887004e-5d2e-47c7-a10e-8ae87f810f1a/assets\n"
     ]
    }
   ],
   "source": [
    "filenameSNN_ = '../Data/models/simple_NN.sav'\n",
    "pickle.dump(model, open(filenameSNN_, 'wb'))"
   ]
  },
  {
   "cell_type": "code",
   "execution_count": 41,
   "id": "61e27584",
   "metadata": {},
   "outputs": [],
   "source": [
    "threshold = 0.5  # Threshold that defines the probability above which a fire is intentional (1):\n",
    "classes_predicted = np.where(neural_predictions > threshold, 1, 0).reshape(len(neural_predictions))"
   ]
  },
  {
   "cell_type": "code",
   "execution_count": 42,
   "id": "80d65364",
   "metadata": {},
   "outputs": [
    {
     "data": {
      "text/plain": [
       "{'Accuracy': 0.6714895635673624,\n",
       " 'Misclasification_Rate': 0.32851043643263755,\n",
       " 'Sensitivity': 0.5906932573599241,\n",
       " 'Specificity': 0.752132701421801,\n",
       " 'False_Positive_Rate': 0.24786729857819906,\n",
       " 'Precision': 0.7040181097906055}"
      ]
     },
     "execution_count": 42,
     "metadata": {},
     "output_type": "execute_result"
    }
   ],
   "source": [
    "# performance:\n",
    "mat_conf_neural = metrics.confusion_matrix(Y_ts, classes_predicted)\n",
    "matrix_data(mat_conf_neural)"
   ]
  },
  {
   "cell_type": "markdown",
   "id": "8a557dd3",
   "metadata": {},
   "source": [
    "### Simple NN sequential model with Relu as activation function and dropout layers:"
   ]
  },
  {
   "cell_type": "code",
   "execution_count": 43,
   "id": "5496bac2",
   "metadata": {},
   "outputs": [],
   "source": [
    "# We instantiate the model:\n",
    "model_drp = Sequential([Dense(units=10, activation='relu'),\n",
    "                        Dropout(0.3),\n",
    "                        Dense(units=1, activation='sigmoid')\n",
    "                       ])\n",
    "# We define the cost function, learning rate optimizer, and the metric we want to evaluate\n",
    "# during the training process:\n",
    "model_drp.compile(optimizer='adam', loss='binary_crossentropy', metrics=['accuracy'])"
   ]
  },
  {
   "cell_type": "code",
   "execution_count": 44,
   "id": "747e41e1",
   "metadata": {
    "scrolled": false
   },
   "outputs": [
    {
     "name": "stdout",
     "output_type": "stream",
     "text": [
      "Epoch 1/100\n",
      "396/396 [==============================] - 1s 722us/step - loss: 4.0545 - accuracy: 0.5006\n",
      "Epoch 2/100\n",
      "396/396 [==============================] - 0s 745us/step - loss: 1.2673 - accuracy: 0.5494\n",
      "Epoch 3/100\n",
      "396/396 [==============================] - 0s 795us/step - loss: 0.7898 - accuracy: 0.5641\n",
      "Epoch 4/100\n",
      "396/396 [==============================] - 0s 757us/step - loss: 0.6987 - accuracy: 0.5571\n",
      "Epoch 5/100\n",
      "396/396 [==============================] - 0s 763us/step - loss: 0.6804 - accuracy: 0.5878\n",
      "Epoch 6/100\n",
      "396/396 [==============================] - 0s 754us/step - loss: 0.6740 - accuracy: 0.5909\n",
      "Epoch 7/100\n",
      "396/396 [==============================] - 0s 751us/step - loss: 0.6726 - accuracy: 0.5928\n",
      "Epoch 8/100\n",
      "396/396 [==============================] - 0s 788us/step - loss: 0.6693 - accuracy: 0.5966\n",
      "Epoch 9/100\n",
      "396/396 [==============================] - 0s 743us/step - loss: 0.6607 - accuracy: 0.6010\n",
      "Epoch 10/100\n",
      "396/396 [==============================] - 0s 758us/step - loss: 0.6522 - accuracy: 0.6072\n",
      "Epoch 11/100\n",
      "396/396 [==============================] - 0s 752us/step - loss: 0.6506 - accuracy: 0.6045\n",
      "Epoch 12/100\n",
      "396/396 [==============================] - 0s 760us/step - loss: 0.6482 - accuracy: 0.6094\n",
      "Epoch 13/100\n",
      "396/396 [==============================] - 0s 765us/step - loss: 0.6476 - accuracy: 0.6154\n",
      "Epoch 14/100\n",
      "396/396 [==============================] - 0s 776us/step - loss: 0.6482 - accuracy: 0.6200\n",
      "Epoch 15/100\n",
      "396/396 [==============================] - 0s 765us/step - loss: 0.6409 - accuracy: 0.6291\n",
      "Epoch 16/100\n",
      "396/396 [==============================] - 0s 768us/step - loss: 0.6371 - accuracy: 0.6353\n",
      "Epoch 17/100\n",
      "396/396 [==============================] - 0s 747us/step - loss: 0.6370 - accuracy: 0.6404\n",
      "Epoch 18/100\n",
      "396/396 [==============================] - 0s 762us/step - loss: 0.6385 - accuracy: 0.6406\n",
      "Epoch 19/100\n",
      "396/396 [==============================] - 0s 769us/step - loss: 0.6364 - accuracy: 0.6428\n",
      "Epoch 20/100\n",
      "396/396 [==============================] - 0s 798us/step - loss: 0.6349 - accuracy: 0.6424\n",
      "Epoch 21/100\n",
      "396/396 [==============================] - 0s 753us/step - loss: 0.6348 - accuracy: 0.6419\n",
      "Epoch 22/100\n",
      "396/396 [==============================] - 0s 752us/step - loss: 0.6343 - accuracy: 0.6408\n",
      "Epoch 23/100\n",
      "396/396 [==============================] - 0s 763us/step - loss: 0.6349 - accuracy: 0.6436\n",
      "Epoch 24/100\n",
      "396/396 [==============================] - 0s 763us/step - loss: 0.6345 - accuracy: 0.6407\n",
      "Epoch 25/100\n",
      "396/396 [==============================] - 0s 766us/step - loss: 0.6346 - accuracy: 0.6399\n",
      "Epoch 26/100\n",
      "396/396 [==============================] - 0s 780us/step - loss: 0.6328 - accuracy: 0.6409\n",
      "Epoch 27/100\n",
      "396/396 [==============================] - 0s 743us/step - loss: 0.6319 - accuracy: 0.6390\n",
      "Epoch 28/100\n",
      "396/396 [==============================] - 0s 757us/step - loss: 0.6303 - accuracy: 0.6445\n",
      "Epoch 29/100\n",
      "396/396 [==============================] - 0s 768us/step - loss: 0.6321 - accuracy: 0.6448\n",
      "Epoch 30/100\n",
      "396/396 [==============================] - 0s 750us/step - loss: 0.6320 - accuracy: 0.6440\n",
      "Epoch 31/100\n",
      "396/396 [==============================] - 0s 762us/step - loss: 0.6330 - accuracy: 0.6399\n",
      "Epoch 32/100\n",
      "396/396 [==============================] - 0s 753us/step - loss: 0.6327 - accuracy: 0.6416\n",
      "Epoch 33/100\n",
      "396/396 [==============================] - 0s 754us/step - loss: 0.6312 - accuracy: 0.6388\n",
      "Epoch 34/100\n",
      "396/396 [==============================] - 0s 756us/step - loss: 0.6309 - accuracy: 0.6427\n",
      "Epoch 35/100\n",
      "396/396 [==============================] - 0s 856us/step - loss: 0.6321 - accuracy: 0.6424\n",
      "Epoch 36/100\n",
      "396/396 [==============================] - 0s 860us/step - loss: 0.6308 - accuracy: 0.6415\n",
      "Epoch 37/100\n",
      "396/396 [==============================] - 0s 765us/step - loss: 0.6294 - accuracy: 0.6419\n",
      "Epoch 38/100\n",
      "396/396 [==============================] - 0s 762us/step - loss: 0.6315 - accuracy: 0.6429\n",
      "Epoch 39/100\n",
      "396/396 [==============================] - 0s 771us/step - loss: 0.6295 - accuracy: 0.6438\n",
      "Epoch 40/100\n",
      "396/396 [==============================] - 0s 759us/step - loss: 0.6303 - accuracy: 0.6403\n",
      "Epoch 41/100\n",
      "396/396 [==============================] - 0s 748us/step - loss: 0.6311 - accuracy: 0.6423\n",
      "Epoch 42/100\n",
      "396/396 [==============================] - 0s 735us/step - loss: 0.6301 - accuracy: 0.6423\n",
      "Epoch 43/100\n",
      "396/396 [==============================] - 0s 726us/step - loss: 0.6316 - accuracy: 0.6405\n",
      "Epoch 44/100\n",
      "396/396 [==============================] - 0s 740us/step - loss: 0.6281 - accuracy: 0.6442\n",
      "Epoch 45/100\n",
      "396/396 [==============================] - 0s 733us/step - loss: 0.6309 - accuracy: 0.6434\n",
      "Epoch 46/100\n",
      "396/396 [==============================] - 0s 809us/step - loss: 0.6277 - accuracy: 0.6456\n",
      "Epoch 47/100\n",
      "396/396 [==============================] - 0s 799us/step - loss: 0.6284 - accuracy: 0.6449\n",
      "Epoch 48/100\n",
      "396/396 [==============================] - 0s 850us/step - loss: 0.6281 - accuracy: 0.6412\n",
      "Epoch 49/100\n",
      "396/396 [==============================] - 0s 750us/step - loss: 0.6306 - accuracy: 0.6477\n",
      "Epoch 50/100\n",
      "396/396 [==============================] - 0s 812us/step - loss: 0.6278 - accuracy: 0.6411\n",
      "Epoch 51/100\n",
      "396/396 [==============================] - 0s 744us/step - loss: 0.6275 - accuracy: 0.6468\n",
      "Epoch 52/100\n",
      "396/396 [==============================] - 0s 731us/step - loss: 0.6297 - accuracy: 0.6453\n",
      "Epoch 53/100\n",
      "396/396 [==============================] - 0s 735us/step - loss: 0.6276 - accuracy: 0.6457\n",
      "Epoch 54/100\n",
      "396/396 [==============================] - 0s 747us/step - loss: 0.6262 - accuracy: 0.6489\n",
      "Epoch 55/100\n",
      "396/396 [==============================] - 0s 737us/step - loss: 0.6283 - accuracy: 0.6477\n",
      "Epoch 56/100\n",
      "396/396 [==============================] - 0s 725us/step - loss: 0.6259 - accuracy: 0.6517\n",
      "Epoch 57/100\n",
      "396/396 [==============================] - 0s 750us/step - loss: 0.6277 - accuracy: 0.6446\n",
      "Epoch 58/100\n",
      "396/396 [==============================] - 0s 742us/step - loss: 0.6290 - accuracy: 0.6479\n",
      "Epoch 59/100\n",
      "396/396 [==============================] - 0s 744us/step - loss: 0.6258 - accuracy: 0.6484\n",
      "Epoch 60/100\n",
      "396/396 [==============================] - 0s 745us/step - loss: 0.6266 - accuracy: 0.6483\n",
      "Epoch 61/100\n",
      "396/396 [==============================] - 0s 741us/step - loss: 0.6282 - accuracy: 0.6462\n",
      "Epoch 62/100\n",
      "396/396 [==============================] - 0s 749us/step - loss: 0.6290 - accuracy: 0.6473\n",
      "Epoch 63/100\n",
      "396/396 [==============================] - 0s 744us/step - loss: 0.6260 - accuracy: 0.6503\n",
      "Epoch 64/100\n",
      "396/396 [==============================] - 0s 776us/step - loss: 0.6282 - accuracy: 0.6482\n",
      "Epoch 65/100\n",
      "396/396 [==============================] - 0s 780us/step - loss: 0.6269 - accuracy: 0.6529\n",
      "Epoch 66/100\n",
      "396/396 [==============================] - 0s 752us/step - loss: 0.6270 - accuracy: 0.6502\n",
      "Epoch 67/100\n",
      "396/396 [==============================] - 0s 749us/step - loss: 0.6265 - accuracy: 0.6526\n",
      "Epoch 68/100\n",
      "396/396 [==============================] - 0s 741us/step - loss: 0.6288 - accuracy: 0.6457\n",
      "Epoch 69/100\n",
      "396/396 [==============================] - 0s 744us/step - loss: 0.6263 - accuracy: 0.6461\n",
      "Epoch 70/100\n",
      "396/396 [==============================] - 0s 750us/step - loss: 0.6259 - accuracy: 0.6509\n",
      "Epoch 71/100\n",
      "396/396 [==============================] - 0s 744us/step - loss: 0.6262 - accuracy: 0.6544\n",
      "Epoch 72/100\n",
      "396/396 [==============================] - 0s 747us/step - loss: 0.6248 - accuracy: 0.6487\n",
      "Epoch 73/100\n",
      "396/396 [==============================] - 0s 748us/step - loss: 0.6260 - accuracy: 0.6486\n",
      "Epoch 74/100\n",
      "396/396 [==============================] - 0s 741us/step - loss: 0.6260 - accuracy: 0.6491\n",
      "Epoch 75/100\n",
      "396/396 [==============================] - 0s 766us/step - loss: 0.6261 - accuracy: 0.6492\n",
      "Epoch 76/100\n",
      "396/396 [==============================] - 0s 770us/step - loss: 0.6244 - accuracy: 0.6458\n",
      "Epoch 77/100\n",
      "396/396 [==============================] - 0s 783us/step - loss: 0.6273 - accuracy: 0.6499\n",
      "Epoch 78/100\n",
      "396/396 [==============================] - 0s 757us/step - loss: 0.6269 - accuracy: 0.6536\n",
      "Epoch 79/100\n",
      "396/396 [==============================] - 0s 743us/step - loss: 0.6270 - accuracy: 0.6473\n",
      "Epoch 80/100\n",
      "396/396 [==============================] - 0s 741us/step - loss: 0.6267 - accuracy: 0.6508\n",
      "Epoch 81/100\n",
      "396/396 [==============================] - 0s 762us/step - loss: 0.6234 - accuracy: 0.6521\n",
      "Epoch 82/100\n",
      "396/396 [==============================] - 0s 758us/step - loss: 0.6254 - accuracy: 0.6503\n",
      "Epoch 83/100\n",
      "396/396 [==============================] - 0s 745us/step - loss: 0.6254 - accuracy: 0.6502\n",
      "Epoch 84/100\n",
      "396/396 [==============================] - 0s 730us/step - loss: 0.6242 - accuracy: 0.6519\n",
      "Epoch 85/100\n",
      "396/396 [==============================] - 0s 727us/step - loss: 0.6226 - accuracy: 0.6548\n",
      "Epoch 86/100\n",
      "396/396 [==============================] - 0s 725us/step - loss: 0.6277 - accuracy: 0.6482\n",
      "Epoch 87/100\n",
      "396/396 [==============================] - 0s 730us/step - loss: 0.6271 - accuracy: 0.6495\n",
      "Epoch 88/100\n",
      "396/396 [==============================] - 0s 744us/step - loss: 0.6252 - accuracy: 0.6494\n",
      "Epoch 89/100\n",
      "396/396 [==============================] - 0s 742us/step - loss: 0.6251 - accuracy: 0.6514\n",
      "Epoch 90/100\n",
      "396/396 [==============================] - 0s 750us/step - loss: 0.6254 - accuracy: 0.6521\n",
      "Epoch 91/100\n",
      "396/396 [==============================] - 0s 732us/step - loss: 0.6277 - accuracy: 0.6516\n",
      "Epoch 92/100\n",
      "396/396 [==============================] - 0s 745us/step - loss: 0.6268 - accuracy: 0.6538\n",
      "Epoch 93/100\n",
      "396/396 [==============================] - 0s 735us/step - loss: 0.6269 - accuracy: 0.6447\n",
      "Epoch 94/100\n",
      "396/396 [==============================] - 0s 725us/step - loss: 0.6251 - accuracy: 0.6545\n",
      "Epoch 95/100\n",
      "396/396 [==============================] - 0s 753us/step - loss: 0.6270 - accuracy: 0.6496\n",
      "Epoch 96/100\n",
      "396/396 [==============================] - 0s 734us/step - loss: 0.6257 - accuracy: 0.6472\n",
      "Epoch 97/100\n",
      "396/396 [==============================] - 0s 736us/step - loss: 0.6261 - accuracy: 0.6501\n",
      "Epoch 98/100\n",
      "396/396 [==============================] - 0s 755us/step - loss: 0.6231 - accuracy: 0.6544\n",
      "Epoch 99/100\n",
      "396/396 [==============================] - 0s 745us/step - loss: 0.6248 - accuracy: 0.6482\n",
      "Epoch 100/100\n",
      "396/396 [==============================] - 0s 735us/step - loss: 0.6244 - accuracy: 0.6489\n"
     ]
    },
    {
     "data": {
      "text/plain": [
       "<keras.callbacks.History at 0x19ba8782380>"
      ]
     },
     "execution_count": 44,
     "metadata": {},
     "output_type": "execute_result"
    }
   ],
   "source": [
    "model_drp.fit(X_tr, Y_tr, epochs = 100, verbose = 1)"
   ]
  },
  {
   "cell_type": "code",
   "execution_count": 45,
   "id": "3d030010",
   "metadata": {},
   "outputs": [
    {
     "name": "stdout",
     "output_type": "stream",
     "text": [
      "132/132 [==============================] - 0s 560us/step\n"
     ]
    }
   ],
   "source": [
    "neural_predictions_drp = model_drp.predict(X_ts)"
   ]
  },
  {
   "cell_type": "code",
   "execution_count": 65,
   "id": "2242f919",
   "metadata": {
    "collapsed": true
   },
   "outputs": [
    {
     "name": "stdout",
     "output_type": "stream",
     "text": [
      "INFO:tensorflow:Assets written to: ram://c802f371-bac0-4df7-b604-24ccfc82b543/assets\n"
     ]
    },
    {
     "name": "stderr",
     "output_type": "stream",
     "text": [
      "INFO:tensorflow:Assets written to: ram://c802f371-bac0-4df7-b604-24ccfc82b543/assets\n"
     ]
    }
   ],
   "source": [
    "filenameNNDR_ = '../Data/models/simple_NNDR.sav'\n",
    "pickle.dump(model_drp, open(filenameNNDR_, 'wb'))"
   ]
  },
  {
   "cell_type": "code",
   "execution_count": 46,
   "id": "bfdb73e4",
   "metadata": {},
   "outputs": [],
   "source": [
    "threshold = 0.5  # Umbral que define la probabilidad a partir de la cual un incendio es intencionado (1):\n",
    "classes_predicted_drp = np.where(neural_predictions_drp > threshold, 1, 0).reshape(len(neural_predictions_drp))"
   ]
  },
  {
   "cell_type": "code",
   "execution_count": 47,
   "id": "510d3ffe",
   "metadata": {},
   "outputs": [
    {
     "data": {
      "text/plain": [
       "{'Accuracy': 0.6667457305502846,\n",
       " 'Misclasification_Rate': 0.33325426944971537,\n",
       " 'Sensitivity': 0.6210826210826211,\n",
       " 'Specificity': 0.7123222748815166,\n",
       " 'False_Positive_Rate': 0.2876777251184834,\n",
       " 'Precision': 0.6830287206266319}"
      ]
     },
     "execution_count": 47,
     "metadata": {},
     "output_type": "execute_result"
    }
   ],
   "source": [
    "# performance:\n",
    "mat_conf_neural_drp = metrics.confusion_matrix(Y_ts, classes_predicted_drp)\n",
    "matrix_data(mat_conf_neural_drp)"
   ]
  },
  {
   "cell_type": "markdown",
   "id": "98057e3f",
   "metadata": {},
   "source": [
    "## Model comparative"
   ]
  },
  {
   "cell_type": "code",
   "execution_count": 52,
   "id": "ec7fa347",
   "metadata": {},
   "outputs": [],
   "source": [
    "KNN = matrix_data(mat_conf_knn)\n",
    "TREE = matrix_data(mat_conf_tree_cls)\n",
    "RANDOM_FOREST = matrix_data(mat_conf_ran_forest)\n",
    "NEURAL = matrix_data(mat_conf_neural)\n",
    "NEURAL_DRP = matrix_data(mat_conf_neural_drp)"
   ]
  },
  {
   "cell_type": "code",
   "execution_count": 53,
   "id": "dd5d2f3f",
   "metadata": {},
   "outputs": [],
   "source": [
    "data = pd.DataFrame.from_dict(KNN, orient='index',  columns = ['KNN'])"
   ]
  },
  {
   "cell_type": "code",
   "execution_count": 54,
   "id": "685c01a7",
   "metadata": {},
   "outputs": [],
   "source": [
    "data['TREE'] = TREE.values()\n",
    "data['RANDOM_FOREST'] = RANDOM_FOREST.values()\n",
    "data['NEURAL'] = NEURAL.values()\n",
    "data['NEURAL_DRP'] = NEURAL_DRP.values()"
   ]
  },
  {
   "cell_type": "code",
   "execution_count": 55,
   "id": "e56787b6",
   "metadata": {},
   "outputs": [
    {
     "data": {
      "text/html": [
       "<div>\n",
       "<style scoped>\n",
       "    .dataframe tbody tr th:only-of-type {\n",
       "        vertical-align: middle;\n",
       "    }\n",
       "\n",
       "    .dataframe tbody tr th {\n",
       "        vertical-align: top;\n",
       "    }\n",
       "\n",
       "    .dataframe thead th {\n",
       "        text-align: right;\n",
       "    }\n",
       "</style>\n",
       "<table border=\"1\" class=\"dataframe\">\n",
       "  <thead>\n",
       "    <tr style=\"text-align: right;\">\n",
       "      <th></th>\n",
       "      <th>KNN</th>\n",
       "      <th>TREE</th>\n",
       "      <th>RANDOM_FOREST</th>\n",
       "      <th>NEURAL</th>\n",
       "      <th>NEURAL_DRP</th>\n",
       "    </tr>\n",
       "  </thead>\n",
       "  <tbody>\n",
       "    <tr>\n",
       "      <th>Accuracy</th>\n",
       "      <td>0.700427</td>\n",
       "      <td>0.636385</td>\n",
       "      <td>0.730313</td>\n",
       "      <td>0.671490</td>\n",
       "      <td>0.666746</td>\n",
       "    </tr>\n",
       "    <tr>\n",
       "      <th>Misclasification_Rate</th>\n",
       "      <td>0.299573</td>\n",
       "      <td>0.363615</td>\n",
       "      <td>0.269687</td>\n",
       "      <td>0.328510</td>\n",
       "      <td>0.333254</td>\n",
       "    </tr>\n",
       "    <tr>\n",
       "      <th>Sensitivity</th>\n",
       "      <td>0.711301</td>\n",
       "      <td>0.633428</td>\n",
       "      <td>0.710351</td>\n",
       "      <td>0.590693</td>\n",
       "      <td>0.621083</td>\n",
       "    </tr>\n",
       "    <tr>\n",
       "      <th>Specificity</th>\n",
       "      <td>0.689573</td>\n",
       "      <td>0.639336</td>\n",
       "      <td>0.750237</td>\n",
       "      <td>0.752133</td>\n",
       "      <td>0.712322</td>\n",
       "    </tr>\n",
       "    <tr>\n",
       "      <th>False_Positive_Rate</th>\n",
       "      <td>0.310427</td>\n",
       "      <td>0.360664</td>\n",
       "      <td>0.249763</td>\n",
       "      <td>0.247867</td>\n",
       "      <td>0.287678</td>\n",
       "    </tr>\n",
       "    <tr>\n",
       "      <th>Precision</th>\n",
       "      <td>0.695773</td>\n",
       "      <td>0.636754</td>\n",
       "      <td>0.739496</td>\n",
       "      <td>0.704018</td>\n",
       "      <td>0.683029</td>\n",
       "    </tr>\n",
       "  </tbody>\n",
       "</table>\n",
       "</div>"
      ],
      "text/plain": [
       "                            KNN      TREE  RANDOM_FOREST    NEURAL  NEURAL_DRP\n",
       "Accuracy               0.700427  0.636385       0.730313  0.671490    0.666746\n",
       "Misclasification_Rate  0.299573  0.363615       0.269687  0.328510    0.333254\n",
       "Sensitivity            0.711301  0.633428       0.710351  0.590693    0.621083\n",
       "Specificity            0.689573  0.639336       0.750237  0.752133    0.712322\n",
       "False_Positive_Rate    0.310427  0.360664       0.249763  0.247867    0.287678\n",
       "Precision              0.695773  0.636754       0.739496  0.704018    0.683029"
      ]
     },
     "execution_count": 55,
     "metadata": {},
     "output_type": "execute_result"
    }
   ],
   "source": [
    "data"
   ]
  },
  {
   "cell_type": "markdown",
   "id": "9ab21529",
   "metadata": {},
   "source": [
    "## Conclusions"
   ]
  },
  {
   "cell_type": "markdown",
   "id": "f96b7407",
   "metadata": {},
   "source": [
    "The Random Forest model appears to have the best overall performance, with a high Accuracy value (0.730313) and a good combination of Sensitivity (0.710351) and Specificity (0.750237). Furthermore, its Precision (0.739496) is quite high considering the few atributes we considered to train the models.\n",
    "\n",
    "The KNN model also shows solid performance with a decent Accuracy (0.700427) and similar values of Sensitivity (0.711301) and Specificity (0.689573). Its Precision (0.695773) is also acceptable.\n",
    "\n",
    "The Simple Neural Network demonstrates reasonable performance with an Accuracy of 0.671490, but its Sensitivity (0.590693) appears to be slightly lower compared to the other models.\n",
    "\n",
    "The Neural Network with Dropout and the Decision Tree yield lower results in terms of Accuracy (0.666746 and 0.636385 respectively) and other metrics, indicating that they might be suffering from overfitting or a lack of fit to the data.\n",
    "\n",
    "The Random Forest seems to be the most balanced model in terms of performance on this specific dataset. However, it's important to conduct cross-validation and a more detailed analysis to ensure that the model generalizes well to new unseen data."
   ]
  },
  {
   "cell_type": "code",
   "execution_count": null,
   "id": "0b1418b7",
   "metadata": {},
   "outputs": [],
   "source": []
  }
 ],
 "metadata": {
  "hide_input": false,
  "kernelspec": {
   "display_name": "Python 3 (ipykernel)",
   "language": "python",
   "name": "python3"
  },
  "language_info": {
   "codemirror_mode": {
    "name": "ipython",
    "version": 3
   },
   "file_extension": ".py",
   "mimetype": "text/x-python",
   "name": "python",
   "nbconvert_exporter": "python",
   "pygments_lexer": "ipython3",
   "version": "3.10.4"
  },
  "toc": {
   "base_numbering": 1,
   "nav_menu": {},
   "number_sections": true,
   "sideBar": true,
   "skip_h1_title": false,
   "title_cell": "Table of Contents",
   "title_sidebar": "Contents",
   "toc_cell": true,
   "toc_position": {
    "height": "calc(100% - 180px)",
    "left": "10px",
    "top": "150px",
    "width": "176.837px"
   },
   "toc_section_display": true,
   "toc_window_display": true
  }
 },
 "nbformat": 4,
 "nbformat_minor": 5
}
